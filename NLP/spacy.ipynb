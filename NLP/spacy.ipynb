{
  "nbformat": 4,
  "nbformat_minor": 0,
  "metadata": {
    "colab": {
      "name": "spacy.ipynb",
      "provenance": [],
      "authorship_tag": "ABX9TyOPNAwJIYdbHvuPOeyqDrVI",
      "include_colab_link": true
    },
    "kernelspec": {
      "name": "python3",
      "display_name": "Python 3"
    },
    "language_info": {
      "name": "python"
    }
  },
  "cells": [
    {
      "cell_type": "markdown",
      "metadata": {
        "id": "view-in-github",
        "colab_type": "text"
      },
      "source": [
        "<a href=\"https://colab.research.google.com/github/SunyoungHa/NLP---Natural-Language-Processing-with-Python/blob/main/spacy.ipynb\" target=\"_parent\"><img src=\"https://colab.research.google.com/assets/colab-badge.svg\" alt=\"Open In Colab\"/></a>"
      ]
    },
    {
      "cell_type": "code",
      "execution_count": null,
      "metadata": {
        "id": "ePUqDhQNj_Gk"
      },
      "outputs": [],
      "source": [
        "import spacy"
      ]
    },
    {
      "cell_type": "code",
      "source": [
        "nlp = spacy.load('en_core_web_sm') #loading module called nlp"
      ],
      "metadata": {
        "id": "ZOS4OHVextXc"
      },
      "execution_count": null,
      "outputs": []
    },
    {
      "cell_type": "code",
      "source": [
        "doc = nlp(u'Company A  is looking at buying U.S. startup for $6 mil.') #creat doc object by using nlp"
      ],
      "metadata": {
        "id": "sKIqCz6ezPL_"
      },
      "execution_count": null,
      "outputs": []
    },
    {
      "cell_type": "code",
      "source": [
        "for token in doc:\n",
        "  print(token.text, token.pos_,token.dep_)"
      ],
      "metadata": {
        "colab": {
          "base_uri": "https://localhost:8080/"
        },
        "id": "FeRr1D8QzbBW",
        "outputId": "bedd0d79-3548-48e5-9c5b-a0b32f3f5dac"
      },
      "execution_count": null,
      "outputs": [
        {
          "output_type": "stream",
          "name": "stdout",
          "text": [
            "Tesla PROPN nsubj\n",
            "is AUX aux\n",
            "looking VERB ROOT\n",
            "at ADP prep\n",
            "buying VERB pcomp\n",
            "U.S. PROPN compound\n",
            "startup NOUN dobj\n",
            "for ADP prep\n",
            "$ SYM nmod\n",
            "6 NUM nummod\n",
            "mil NOUN pobj\n",
            ". PUNCT punct\n"
          ]
        }
      ]
    },
    {
      "cell_type": "code",
      "source": [
        "nlp.pipeline"
      ],
      "metadata": {
        "colab": {
          "base_uri": "https://localhost:8080/"
        },
        "id": "wC0VAeVzzfFb",
        "outputId": "4264298d-6bc3-4881-f47c-9d289e6f577c"
      },
      "execution_count": null,
      "outputs": [
        {
          "output_type": "execute_result",
          "data": {
            "text/plain": [
              "[('tok2vec', <spacy.pipeline.tok2vec.Tok2Vec at 0x7f77e691c360>),\n",
              " ('tagger', <spacy.pipeline.tagger.Tagger at 0x7f77e62edfa0>),\n",
              " ('parser', <spacy.pipeline.dep_parser.DependencyParser at 0x7f77e62d6350>),\n",
              " ('attribute_ruler',\n",
              "  <spacy.pipeline.attributeruler.AttributeRuler at 0x7f77e5408fa0>),\n",
              " ('lemmatizer',\n",
              "  <spacy.lang.en.lemmatizer.EnglishLemmatizer at 0x7f77e54081e0>),\n",
              " ('ner', <spacy.pipeline.ner.EntityRecognizer at 0x7f77e6923b50>)]"
            ]
          },
          "metadata": {},
          "execution_count": 12
        }
      ]
    },
    {
      "cell_type": "code",
      "source": [
        "doc2 = nlp(u\"Company A isn't looking into startups anymore. \")"
      ],
      "metadata": {
        "id": "7xXGxNIm4BJR"
      },
      "execution_count": null,
      "outputs": []
    },
    {
      "cell_type": "code",
      "source": [
        "for token in doc2:\n",
        "  print(token.text,token.pos_,token.dep_)\n"
      ],
      "metadata": {
        "colab": {
          "base_uri": "https://localhost:8080/"
        },
        "id": "Zy06_ZCA4aLS",
        "outputId": "251a3e58-a851-45ff-9f0d-6aa7348328c0"
      },
      "execution_count": null,
      "outputs": [
        {
          "output_type": "stream",
          "name": "stdout",
          "text": [
            "Company NOUN compound\n",
            "A PROPN nsubj\n",
            "is AUX aux\n",
            "n't PART neg\n",
            "looking VERB ROOT\n",
            "into ADP prep\n",
            "startups NOUN pobj\n",
            "anymore ADV advmod\n"
          ]
        }
      ]
    },
    {
      "cell_type": "code",
      "source": [
        "doc2[0].pos_"
      ],
      "metadata": {
        "colab": {
          "base_uri": "https://localhost:8080/",
          "height": 36
        },
        "id": "5OsSuMlt5AYN",
        "outputId": "008a8262-ad79-4d91-ae14-3dad0ef94eb7"
      },
      "execution_count": null,
      "outputs": [
        {
          "output_type": "execute_result",
          "data": {
            "text/plain": [
              "'NOUN'"
            ],
            "application/vnd.google.colaboratory.intrinsic+json": {
              "type": "string"
            }
          },
          "metadata": {},
          "execution_count": 18
        }
      ]
    },
    {
      "cell_type": "code",
      "source": [
        "doc3 = nlp(u'Although commmonly attributed to John Lennon from his song \"Beautiful Boy\", \\\n",
        "the phrase \"Life is what happens to us while we are making other plans\" was written by \\\n",
        "cartoonist Allen Saunders and published in Reader\\'s Digest in 1957, when Lennon was 17.')"
      ],
      "metadata": {
        "id": "RpEbIsOw6KHr"
      },
      "execution_count": null,
      "outputs": []
    },
    {
      "cell_type": "code",
      "source": [
        "life_quote=doc3[16:30]\n",
        "print(life_quote)"
      ],
      "metadata": {
        "colab": {
          "base_uri": "https://localhost:8080/"
        },
        "id": "ykZvzN3r7Te-",
        "outputId": "d78a2c53-2d7d-41a6-ca6b-03f789e4fe52"
      },
      "execution_count": null,
      "outputs": [
        {
          "output_type": "stream",
          "name": "stdout",
          "text": [
            "\"Life is what happens to us while we are making other plans\"\n"
          ]
        }
      ]
    },
    {
      "cell_type": "code",
      "source": [
        "type(life_quote)"
      ],
      "metadata": {
        "colab": {
          "base_uri": "https://localhost:8080/"
        },
        "id": "7NX2wG1j7egC",
        "outputId": "06a3a0bc-483f-45b5-97c3-5a5d2a0c6998"
      },
      "execution_count": null,
      "outputs": [
        {
          "output_type": "execute_result",
          "data": {
            "text/plain": [
              "spacy.tokens.span.Span"
            ]
          },
          "metadata": {},
          "execution_count": 24
        }
      ]
    },
    {
      "cell_type": "code",
      "source": [
        "type(doc3)"
      ],
      "metadata": {
        "colab": {
          "base_uri": "https://localhost:8080/"
        },
        "id": "UMO8aGjU7hAY",
        "outputId": "2336c159-87e9-47cf-f24d-eaaacb1f6b83"
      },
      "execution_count": null,
      "outputs": [
        {
          "output_type": "execute_result",
          "data": {
            "text/plain": [
              "spacy.tokens.doc.Doc"
            ]
          },
          "metadata": {},
          "execution_count": 25
        }
      ]
    }
  ]
}