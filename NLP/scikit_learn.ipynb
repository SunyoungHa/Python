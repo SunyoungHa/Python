{
  "nbformat": 4,
  "nbformat_minor": 0,
  "metadata": {
    "colab": {
      "name": "scikit_learn.ipynb",
      "provenance": [],
      "authorship_tag": "ABX9TyOJ6Dn8NE6ni19E3PH/XFUG",
      "include_colab_link": true
    },
    "kernelspec": {
      "name": "python3",
      "display_name": "Python 3"
    },
    "language_info": {
      "name": "python"
    }
  },
  "cells": [
    {
      "cell_type": "markdown",
      "metadata": {
        "id": "view-in-github",
        "colab_type": "text"
      },
      "source": [
        "<a href=\"https://colab.research.google.com/github/SunyoungHa/NLP---Natural-Language-Processing-with-Python/blob/main/scikit_learn.ipynb\" target=\"_parent\"><img src=\"https://colab.research.google.com/assets/colab-badge.svg\" alt=\"Open In Colab\"/></a>"
      ]
    },
    {
      "cell_type": "code",
      "execution_count": 2,
      "metadata": {
        "id": "RG9KDPcN61b4"
      },
      "outputs": [],
      "source": [
        "import numpy as np\n",
        "import pandas as pd\n"
      ]
    },
    {
      "cell_type": "code",
      "source": [
        "df=pd.read_csv('/content/sample_data/smsspamcollection.tsv', sep='\\t')"
      ],
      "metadata": {
        "id": "QMOI4vgl7YkP"
      },
      "execution_count": 11,
      "outputs": []
    },
    {
      "cell_type": "code",
      "source": [
        "df.isnull().sum()"
      ],
      "metadata": {
        "colab": {
          "base_uri": "https://localhost:8080/"
        },
        "id": "P8SHHMnI7woU",
        "outputId": "12d710db-cb16-49c0-8d00-1a17746c4c61"
      },
      "execution_count": 9,
      "outputs": [
        {
          "output_type": "execute_result",
          "data": {
            "text/plain": [
              "label      0\n",
              "message    0\n",
              "length     0\n",
              "punct      0\n",
              "dtype: int64"
            ]
          },
          "metadata": {},
          "execution_count": 9
        }
      ]
    },
    {
      "cell_type": "code",
      "source": [
        "len(df)"
      ],
      "metadata": {
        "colab": {
          "base_uri": "https://localhost:8080/"
        },
        "id": "wgnmZTCQ7-K0",
        "outputId": "14fefaf2-d439-4c5a-b6c3-57045dc7a3f6"
      },
      "execution_count": 13,
      "outputs": [
        {
          "output_type": "execute_result",
          "data": {
            "text/plain": [
              "5572"
            ]
          },
          "metadata": {},
          "execution_count": 13
        }
      ]
    },
    {
      "cell_type": "code",
      "source": [
        "df['label'].value_counts()"
      ],
      "metadata": {
        "colab": {
          "base_uri": "https://localhost:8080/"
        },
        "id": "MdwHK2v88ITV",
        "outputId": "b20433c6-e1ea-4dc4-8286-6cfcc063f757"
      },
      "execution_count": 16,
      "outputs": [
        {
          "output_type": "execute_result",
          "data": {
            "text/plain": [
              "ham     4825\n",
              "spam     747\n",
              "Name: label, dtype: int64"
            ]
          },
          "metadata": {},
          "execution_count": 16
        }
      ]
    },
    {
      "cell_type": "code",
      "source": [
        "X = df[['length','punct']]  # note the double set of brackets\n",
        "y = df['label']\n",
        "\n",
        "from sklearn.model_selection import train_test_split\n",
        "\n",
        "X_train, X_test, y_train, y_test = train_test_split(X, y, test_size=0.33, random_state=42)\n",
        "\n",
        "print('Training Data Shape:', X_train.shape)\n",
        "print('Testing Data Shape: ', X_test.shape) \n",
        "\n",
        "from sklearn.linear_model import LogisticRegression\n",
        "\n",
        "lr_model = LogisticRegression(solver='lbfgs')\n",
        "\n",
        "lr_model.fit(X_train, y_train)\n",
        "\n",
        "from sklearn import metrics\n",
        "predictions = lr_model.predict(X_test)\n",
        "print(metrics.confusion_matrix(y_test,predictions))"
      ],
      "metadata": {
        "colab": {
          "base_uri": "https://localhost:8080/"
        },
        "id": "SSm7mt919BTJ",
        "outputId": "79c4ccf0-4d79-4ed0-abe9-a397a5075ced"
      },
      "execution_count": 29,
      "outputs": [
        {
          "output_type": "stream",
          "name": "stdout",
          "text": [
            "Training Data Shape: (3733, 2)\n",
            "Testing Data Shape:  (1839, 2)\n",
            "[[1547   46]\n",
            " [ 241    5]]\n"
          ]
        }
      ]
    },
    {
      "cell_type": "code",
      "source": [
        "print(metrics.classification_report(y_test,predictions))"
      ],
      "metadata": {
        "colab": {
          "base_uri": "https://localhost:8080/"
        },
        "id": "yUT8ctyw9NF3",
        "outputId": "e2acd85a-5aaf-4a76-d61d-9226ad4a8e7d"
      },
      "execution_count": 30,
      "outputs": [
        {
          "output_type": "stream",
          "name": "stdout",
          "text": [
            "              precision    recall  f1-score   support\n",
            "\n",
            "         ham       0.87      0.97      0.92      1593\n",
            "        spam       0.10      0.02      0.03       246\n",
            "\n",
            "    accuracy                           0.84      1839\n",
            "   macro avg       0.48      0.50      0.47      1839\n",
            "weighted avg       0.76      0.84      0.80      1839\n",
            "\n"
          ]
        }
      ]
    }
  ]
}