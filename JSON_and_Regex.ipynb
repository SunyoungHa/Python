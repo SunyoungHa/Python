{
  "nbformat": 4,
  "nbformat_minor": 0,
  "metadata": {
    "colab": {
      "name": "JSON and Regex.ipynb",
      "provenance": [],
      "collapsed_sections": [],
      "authorship_tag": "ABX9TyOjg3RxQkyimBgKqTmywTge",
      "include_colab_link": true
    },
    "kernelspec": {
      "name": "python3",
      "display_name": "Python 3"
    },
    "language_info": {
      "name": "python"
    }
  },
  "cells": [
    {
      "cell_type": "markdown",
      "metadata": {
        "id": "view-in-github",
        "colab_type": "text"
      },
      "source": [
        "<a href=\"https://colab.research.google.com/github/SunyoungHa/python/blob/main/JSON_and_Regex.ipynb\" target=\"_parent\"><img src=\"https://colab.research.google.com/assets/colab-badge.svg\" alt=\"Open In Colab\"/></a>"
      ]
    },
    {
      "cell_type": "code",
      "execution_count": 10,
      "metadata": {
        "id": "v93mwmgH-S_i"
      },
      "outputs": [],
      "source": [
        "#source: Beginners' Python and Machine Learning by pythonator.com\n",
        "import json\n",
        "import re\n",
        "import datetime\n",
        "import pprint\n",
        "import html\n",
        "from urllib.request import urlopen, urlretrieve"
      ]
    },
    {
      "cell_type": "code",
      "source": [
        "#convert str to json, then covert it back to a python str\n",
        "\n",
        "print('JSON is similar to Python notation')\n",
        "\n",
        "python_values=[123,2+4j, 'string', ['list'], {'dict':'dictionay'}, False, None, ('set',789)]\n",
        "\n",
        "for sample in python_values:\n",
        "  print('\\n'+ type(sample).__name__)\n",
        "  try:\n",
        "    js=json.dumps(sample) #convert value to json\n",
        "    print(f'JSON: {js}')\n",
        "    print(f'Original: {sample!r}') #!r is interal representation of value\n",
        "    print(f'Reconverted : {json.loads(js)!r}') #reconvert json to python\n",
        "\n",
        "  except TypeError:\n",
        "    print(f'Original value can\\'t be converted. {TypeError}' )\n",
        "\n"
      ],
      "metadata": {
        "colab": {
          "base_uri": "https://localhost:8080/"
        },
        "id": "PYAnP1G0-11P",
        "outputId": "189d7a7b-baf5-4971-b3de-737e0acc5815"
      },
      "execution_count": 11,
      "outputs": [
        {
          "output_type": "stream",
          "name": "stdout",
          "text": [
            "JSON is similar to Python notation\n",
            "\n",
            "int\n",
            "JSON: 123\n",
            "Original: 123\n",
            "Reconverted : 123\n",
            "\n",
            "complex\n",
            "Original value can't be converted. <class 'TypeError'>\n",
            "\n",
            "str\n",
            "JSON: \"string\"\n",
            "Original: 'string'\n",
            "Reconverted : 'string'\n",
            "\n",
            "list\n",
            "JSON: [\"list\"]\n",
            "Original: ['list']\n",
            "Reconverted : ['list']\n",
            "\n",
            "dict\n",
            "JSON: {\"dict\": \"dictionay\"}\n",
            "Original: {'dict': 'dictionay'}\n",
            "Reconverted : {'dict': 'dictionay'}\n",
            "\n",
            "bool\n",
            "JSON: false\n",
            "Original: False\n",
            "Reconverted : False\n",
            "\n",
            "NoneType\n",
            "JSON: null\n",
            "Original: None\n",
            "Reconverted : None\n",
            "\n",
            "tuple\n",
            "JSON: [\"set\", 789]\n",
            "Original: ('set', 789)\n",
            "Reconverted : ['set', 789]\n"
          ]
        }
      ]
    },
    {
      "cell_type": "code",
      "source": [
        "from json.decoder import JSONDecodeError\n",
        "value=[]\n",
        "js='\"json can store strings in double quotes\"'\n",
        "print(json.loads(js))\n",
        "try:\n",
        "  print(json.loads(\"'json can'\\t store strings in single quotes'\"))\n",
        "except JSONDecodeError:\n",
        "  print (f\"json can\\'t store strings in single quotes, json: {JSONDecodeError}\")\n"
      ],
      "metadata": {
        "colab": {
          "base_uri": "https://localhost:8080/"
        },
        "id": "_5NPrT-ADXU-",
        "outputId": "996ddc84-14e3-42fb-9ea1-cfbd760731a0"
      },
      "execution_count": 12,
      "outputs": [
        {
          "output_type": "stream",
          "name": "stdout",
          "text": [
            "json can store strings in double quotes\n",
            "json can't store strings in single quotes, json: <class 'json.decoder.JSONDecodeError'>\n"
          ]
        }
      ]
    },
    {
      "cell_type": "code",
      "source": [
        "r=2+4j\n",
        "p=repr(2+4j) #repr() is similar to json.loads() for python obj notation except json.loads only works on a few data type.\n",
        "r, p"
      ],
      "metadata": {
        "colab": {
          "base_uri": "https://localhost:8080/"
        },
        "id": "L4t9y13YFLBJ",
        "outputId": "eff35261-9982-44ec-b160-64afa4e37245"
      },
      "execution_count": 13,
      "outputs": [
        {
          "output_type": "execute_result",
          "data": {
            "text/plain": [
              "((2+4j), '(2+4j)')"
            ]
          },
          "metadata": {},
          "execution_count": 13
        }
      ]
    },
    {
      "cell_type": "code",
      "source": [
        "e=eval(p) #eval() is similar to json.dumps() and it can evaluate full expressions not just object literals but it has security risk.\n",
        "e, type(p)"
      ],
      "metadata": {
        "colab": {
          "base_uri": "https://localhost:8080/"
        },
        "id": "XFnK_24wF-S7",
        "outputId": "44546baa-406d-4587-c8d4-b9b60855bed1"
      },
      "execution_count": 14,
      "outputs": [
        {
          "output_type": "execute_result",
          "data": {
            "text/plain": [
              "((2+4j), str)"
            ]
          },
          "metadata": {},
          "execution_count": 14
        }
      ]
    },
    {
      "cell_type": "code",
      "source": [
        "url='http://www.trumba.com/calendars/brisbane-city-council.json '\n",
        "events=json.load(urlopen(url=url))\n",
        "type(events), len(events), events[0]"
      ],
      "metadata": {
        "colab": {
          "base_uri": "https://localhost:8080/"
        },
        "id": "1AjmGZoIGorH",
        "outputId": "5bc0e89d-0b31-4905-fb45-e49afd12db1e"
      },
      "execution_count": 15,
      "outputs": [
        {
          "output_type": "execute_result",
          "data": {
            "text/plain": [
              "(list,\n",
              " 200,\n",
              " {'eventID': 159833794,\n",
              "  'template': 'Brisbane City Council',\n",
              "  'title': 'Brisbane Sculpture Festival 2022 - Outdoor Exhibition',\n",
              "  'description': 'We invite you to visit the Brisbane Botanic Gardens, Mt Coot-tha to view a spectacular sculpture exhibition created by members of Sculptors Queensland Inc. The society is a not-for-profit organisation dedicated to the creation and appreciation of sculptures, serving both the community and sculptor artists in Queensland.<br /><br />Come along and take a self-guided walk of the outdoor exhibition by this amazing group of artists. You can pick up a map to guide your tour at the Visitor Information Centre. From the 27 May to the 1 June, Sculptors QLD are also presenting smaller sculptures in the Auditorium, also part of the annual <a href=\"https://www.brisbane.qld.gov.au/whats-on-and-events/search?search=sculptors%20queensland\" target=\"_blank\" rel=\"noopener\">Brisbane Sculpture Festival</a>. All sculptures are available for purchase, contact <a href=\"mailto:exhibitions@sculptorsqld.org.au\" target=\"_blank\" rel=\"noopener\">exhibitions@sculptorsqld.org.au</a> or call 0417 555 549.&#160;',\n",
              "  'locationType': 'In-Person',\n",
              "  'location': 'Brisbane Botanic Gardens Mt Coot-tha',\n",
              "  'webLink': '',\n",
              "  'startDateTime': '2022-05-27T00:00:00',\n",
              "  'endDateTime': '2022-09-02T00:00:00',\n",
              "  'dateTimeFormatted': 'Ongoing through Thursday, September 1, 2022',\n",
              "  'allDay': True,\n",
              "  'startTimeZoneOffset': '+1000',\n",
              "  'endTimeZoneOffset': '+1000',\n",
              "  'canceled': False,\n",
              "  'openSignUp': False,\n",
              "  'reservationFull': False,\n",
              "  'pastDeadline': True,\n",
              "  'pastCancelDeadline': True,\n",
              "  'requiresPayment': False,\n",
              "  'refundsAllowed': False,\n",
              "  'waitingListAvailable': False,\n",
              "  'eventImage': {'url': 'https://www.trumba.com/i/DgCaJt5-Ki1IO%2APRhqyT8mbX.jpg',\n",
              "   'size': {'width': 1290, 'height': 775}},\n",
              "  'detailImage': {'url': 'https://www.trumba.com/i/DgCaJt5-Ki1IO%2APRhqyT8mbX.jpg',\n",
              "   'size': {'width': 1290, 'height': 775}},\n",
              "  'customFields': [{'fieldID': 22503,\n",
              "    'label': 'Venue',\n",
              "    'value': 'Brisbane Botanic Gardens Mt Coot-tha',\n",
              "    'type': 17},\n",
              "   {'fieldID': 22505,\n",
              "    'label': 'Venue address',\n",
              "    'value': '<a href=\"http://maps.google.com/?q=152+Mount+Coot+Tha+Rd%2c+Toowong+QLD+4066%2c+Australia\" target=\"_blank\" rel=\"noopener\">Brisbane Botanic Gardens Mt Coot-tha, 152 Mt Coot-tha Road, Toowong</a>',\n",
              "    'type': 9},\n",
              "   {'fieldID': 21859,\n",
              "    'label': 'Event type',\n",
              "    'value': 'Art, Exhibitions, Featured, Free, Green',\n",
              "    'type': 17},\n",
              "   {'fieldID': 22177, 'label': 'Cost', 'value': 'Free', 'type': 0},\n",
              "   {'fieldID': 23562,\n",
              "    'label': 'Age',\n",
              "    'value': 'Suitable for all ages',\n",
              "    'type': 0},\n",
              "   {'fieldID': 22732,\n",
              "    'label': 'Bookings',\n",
              "    'value': 'No bookings required.',\n",
              "    'type': 1},\n",
              "   {'fieldID': 51540, 'label': 'Bookings required', 'value': 'No', 'type': 3}],\n",
              "  'permaLinkUrl': 'https://www.brisbane.qld.gov.au/trumba?trumbaEmbed=view%3devent%26eventid%3d159833794',\n",
              "  'eventActionUrl': 'https://eventactions.com/eventactions/brisbane-city-council#/actions/4wycwz59e9j1z2r7ydj3xszvby',\n",
              "  'categoryCalendar': \"Brisbane's calendar|Brisbane Botanic Gardens\",\n",
              "  'registrationTransferTargetCount': 0,\n",
              "  'regAllowChanges': True})"
            ]
          },
          "metadata": {},
          "execution_count": 15
        }
      ]
    },
    {
      "cell_type": "code",
      "source": [
        "#save json to a file\n",
        "urlretrieve(url,'retrieved-file.json')\n",
        "with open('retrieved-file.json', mode='r') as json_file:\n",
        "  events=json.load(json_file)\n",
        "  print(events[0])\n",
        "  "
      ],
      "metadata": {
        "colab": {
          "base_uri": "https://localhost:8080/"
        },
        "id": "sG5-B7TEIQY_",
        "outputId": "4a9d3904-2afc-4ec5-d782-9313ef6993aa"
      },
      "execution_count": 16,
      "outputs": [
        {
          "output_type": "stream",
          "name": "stdout",
          "text": [
            "{'eventID': 159833794, 'template': 'Brisbane City Council', 'title': 'Brisbane Sculpture Festival 2022 - Outdoor Exhibition', 'description': 'We invite you to visit the Brisbane Botanic Gardens, Mt Coot-tha to view a spectacular sculpture exhibition created by members of Sculptors Queensland Inc. The society is a not-for-profit organisation dedicated to the creation and appreciation of sculptures, serving both the community and sculptor artists in Queensland.<br /><br />Come along and take a self-guided walk of the outdoor exhibition by this amazing group of artists. You can pick up a map to guide your tour at the Visitor Information Centre. From the 27 May to the 1 June, Sculptors QLD are also presenting smaller sculptures in the Auditorium, also part of the annual <a href=\"https://www.brisbane.qld.gov.au/whats-on-and-events/search?search=sculptors%20queensland\" target=\"_blank\" rel=\"noopener\">Brisbane Sculpture Festival</a>. All sculptures are available for purchase, contact <a href=\"mailto:exhibitions@sculptorsqld.org.au\" target=\"_blank\" rel=\"noopener\">exhibitions@sculptorsqld.org.au</a> or call 0417 555 549.&#160;', 'locationType': 'In-Person', 'location': 'Brisbane Botanic Gardens Mt Coot-tha', 'webLink': '', 'startDateTime': '2022-05-27T00:00:00', 'endDateTime': '2022-09-02T00:00:00', 'dateTimeFormatted': 'Ongoing through Thursday, September 1, 2022', 'allDay': True, 'startTimeZoneOffset': '+1000', 'endTimeZoneOffset': '+1000', 'canceled': False, 'openSignUp': False, 'reservationFull': False, 'pastDeadline': True, 'pastCancelDeadline': True, 'requiresPayment': False, 'refundsAllowed': False, 'waitingListAvailable': False, 'eventImage': {'url': 'https://www.trumba.com/i/DgCaJt5-Ki1IO%2APRhqyT8mbX.jpg', 'size': {'width': 1290, 'height': 775}}, 'detailImage': {'url': 'https://www.trumba.com/i/DgCaJt5-Ki1IO%2APRhqyT8mbX.jpg', 'size': {'width': 1290, 'height': 775}}, 'customFields': [{'fieldID': 22503, 'label': 'Venue', 'value': 'Brisbane Botanic Gardens Mt Coot-tha', 'type': 17}, {'fieldID': 22505, 'label': 'Venue address', 'value': '<a href=\"http://maps.google.com/?q=152+Mount+Coot+Tha+Rd%2c+Toowong+QLD+4066%2c+Australia\" target=\"_blank\" rel=\"noopener\">Brisbane Botanic Gardens Mt Coot-tha, 152 Mt Coot-tha Road, Toowong</a>', 'type': 9}, {'fieldID': 21859, 'label': 'Event type', 'value': 'Art, Exhibitions, Featured, Free, Green', 'type': 17}, {'fieldID': 22177, 'label': 'Cost', 'value': 'Free', 'type': 0}, {'fieldID': 23562, 'label': 'Age', 'value': 'Suitable for all ages', 'type': 0}, {'fieldID': 22732, 'label': 'Bookings', 'value': 'No bookings required.', 'type': 1}, {'fieldID': 51540, 'label': 'Bookings required', 'value': 'No', 'type': 3}], 'permaLinkUrl': 'https://www.brisbane.qld.gov.au/trumba?trumbaEmbed=view%3devent%26eventid%3d159833794', 'eventActionUrl': 'https://eventactions.com/eventactions/brisbane-city-council#/actions/4wycwz59e9j1z2r7ydj3xszvby', 'categoryCalendar': \"Brisbane's calendar|Brisbane Botanic Gardens\", 'registrationTransferTargetCount': 0, 'regAllowChanges': True}\n"
          ]
        }
      ]
    },
    {
      "cell_type": "code",
      "source": [
        "#find the set of unique vales for key categoryCalendar\n",
        "\n",
        "find_value=[]\n",
        "for event in events:\n",
        "  category=event['categoryCalendar']\n",
        "  if category not in find_value:\n",
        "    find_value.append(category)\n",
        "print(find_value)\n",
        "\n",
        "\n",
        "#data set rather than list\n",
        "set_find_value=set()\n",
        "for event in events:\n",
        "  category=event['categoryCalendar']\n",
        "  set_find_value.add(category)\n",
        "print(set_find_value)\n",
        "\n",
        "#use pretty print\n",
        "pprint.pprint(sorted(find_value))\n"
      ],
      "metadata": {
        "colab": {
          "base_uri": "https://localhost:8080/"
        },
        "id": "P9cVoQdVKX01",
        "outputId": "9744719f-96fe-4b3d-87e2-45220a1cf2e9"
      },
      "execution_count": 17,
      "outputs": [
        {
          "output_type": "stream",
          "name": "stdout",
          "text": [
            "[\"Brisbane's calendar|Brisbane Botanic Gardens\", \"Brisbane's calendar|Creative events\", \"Brisbane's calendar|Active and healthy|Active parks\", \"Brisbane's calendar|Active and healthy|GOLD\", 'Featured|Events in Brisbane', \"Brisbane's calendar|Library events\", \"Brisbane's calendar|Pop up library\", \"Brisbane's calendar|Museum of Brisbane\", \"Brisbane's calendar|City Hall\", \"Brisbane's calendar|Brisbane Botanic Gardens|Botanic Gardens Walks and Tours\", \"Brisbane's calendar|Mobile library\", \"Brisbane's calendar|Natural areas\", \"Brisbane's calendar|Planetarium\", \"Brisbane's calendar|Markets\"]\n",
            "{\"Brisbane's calendar|Active and healthy|Active parks\", \"Brisbane's calendar|Planetarium\", \"Brisbane's calendar|Mobile library\", \"Brisbane's calendar|Active and healthy|GOLD\", \"Brisbane's calendar|Natural areas\", \"Brisbane's calendar|Markets\", 'Featured|Events in Brisbane', \"Brisbane's calendar|Creative events\", \"Brisbane's calendar|Library events\", \"Brisbane's calendar|City Hall\", \"Brisbane's calendar|Museum of Brisbane\", \"Brisbane's calendar|Brisbane Botanic Gardens|Botanic Gardens Walks and Tours\", \"Brisbane's calendar|Brisbane Botanic Gardens\", \"Brisbane's calendar|Pop up library\"}\n",
            "[\"Brisbane's calendar|Active and healthy|Active parks\",\n",
            " \"Brisbane's calendar|Active and healthy|GOLD\",\n",
            " \"Brisbane's calendar|Brisbane Botanic Gardens\",\n",
            " \"Brisbane's calendar|Brisbane Botanic Gardens|Botanic Gardens Walks and Tours\",\n",
            " \"Brisbane's calendar|City Hall\",\n",
            " \"Brisbane's calendar|Creative events\",\n",
            " \"Brisbane's calendar|Library events\",\n",
            " \"Brisbane's calendar|Markets\",\n",
            " \"Brisbane's calendar|Mobile library\",\n",
            " \"Brisbane's calendar|Museum of Brisbane\",\n",
            " \"Brisbane's calendar|Natural areas\",\n",
            " \"Brisbane's calendar|Planetarium\",\n",
            " \"Brisbane's calendar|Pop up library\",\n",
            " 'Featured|Events in Brisbane']\n"
          ]
        }
      ]
    },
    {
      "cell_type": "code",
      "source": [
        "#Find the first event with Planetarium categoryCalendar. Print the location, title, startDateTime\n",
        "for event in events:\n",
        "  if 'Planetarium' in event['categoryCalendar']:\n",
        "    print(f\"{event['title']}: {event['location']},{event['startDateTime']}\", '\\n')\n",
        "    break"
      ],
      "metadata": {
        "colab": {
          "base_uri": "https://localhost:8080/"
        },
        "id": "YseSnOx8OHGP",
        "outputId": "5ef2a1fc-ef5d-4e5f-8caa-14ba736b0c44"
      },
      "execution_count": 18,
      "outputs": [
        {
          "output_type": "stream",
          "name": "stdout",
          "text": [
            "Destination: Universe: Sir Thomas Brisbane Planetarium, Mt Coot-tha,2022-08-23T15:00:00 \n",
            "\n"
          ]
        }
      ]
    },
    {
      "cell_type": "code",
      "source": [
        ""
      ],
      "metadata": {
        "id": "fMOI0uZwgp_g"
      },
      "execution_count": null,
      "outputs": []
    },
    {
      "cell_type": "code",
      "source": [
        ""
      ],
      "metadata": {
        "id": "0hb-3uEWgp8p"
      },
      "execution_count": null,
      "outputs": []
    },
    {
      "cell_type": "code",
      "source": [
        "#Use regex adn find the first event with Planetarium categoryCalendar. print Cost\n",
        "url='http://www.trumba.com/calendars/brisbane-city-council.json '\n",
        "events=json.load(urlopen(url=url))\n",
        "type(events), len(events), events[0]\n",
        "\n",
        "urlretrieve(url,'urlretrieve.json')\n",
        "with open('urlretrieve.json', mode='r') as f:\n",
        "  events=json.load(f)\n",
        "  # print(events[0])\n",
        "\n",
        "for event in events:\n",
        "  if re.search('Plane', event['categoryCalendar']):\n",
        "    for customField in event['customFields']:\n",
        "      if re.search('Cost', customField['label']):\n",
        "        print(customField['value'])\n",
        "        break\n",
        "    break\n",
        "    \n",
        "\n"
      ],
      "metadata": {
        "colab": {
          "base_uri": "https://localhost:8080/"
        },
        "id": "nMSh7P4xV25w",
        "outputId": "10359636-c67b-4694-ad75-2a5ed27597b4"
      },
      "execution_count": 37,
      "outputs": [
        {
          "output_type": "stream",
          "name": "stdout",
          "text": [
            "Adult $15.00, Child (3-14 yrs) $10.00, Concessions $12.00\n"
          ]
        }
      ]
    },
    {
      "cell_type": "code",
      "source": [
        "# Write and test regular expressions for the following:\n",
        "# Match 'Planetarium' only if it is at the end of the line\n",
        "# Match 'Planetarium' or 'planetariums'\n",
        "\n",
        "print (re.findall(r'Planetarium$', 'The Thomas Brisbane Planetarium shows planets shown in other planetariums'))\n",
        "print (re.findall(r'[Pp]lanetarium?','The Thomas Brisbane Planetarium shows planets shown in other planetariums' ))\n"
      ],
      "metadata": {
        "colab": {
          "base_uri": "https://localhost:8080/"
        },
        "id": "sgcAvOo1fOJk",
        "outputId": "ed1488ae-d301-481b-e384-fbaec75b1877"
      },
      "execution_count": 45,
      "outputs": [
        {
          "output_type": "stream",
          "name": "stdout",
          "text": [
            "[]\n",
            "['Planetarium', 'planetarium']\n"
          ]
        }
      ]
    },
    {
      "cell_type": "code",
      "source": [
        "# Find all events which are not free. Print the location, title, startDateTime, cost\n",
        "\n",
        "for event in events:\n",
        "  for customField in event['customFields']:\n",
        "    if not re.search('[Ff]ree', customField['value']):\n",
        "      print(customField['fieldID'])\n",
        "  break\n",
        "  \n",
        "\n",
        "      "
      ],
      "metadata": {
        "colab": {
          "base_uri": "https://localhost:8080/"
        },
        "id": "lXmbH4Bdvngq",
        "outputId": "baa5007c-b7df-4085-f7c6-f06450a2ec90"
      },
      "execution_count": 53,
      "outputs": [
        {
          "output_type": "stream",
          "name": "stdout",
          "text": [
            "22503\n",
            "22505\n",
            "23562\n",
            "22732\n",
            "51540\n"
          ]
        }
      ]
    },
    {
      "cell_type": "code",
      "source": [
        "# Extract all the prices from a 'Cost' record and convert to float. \n",
        "cost = 'Adult $15.00.2 Adults $29.00.Children $5 each'\n",
        "result = re.findall('\\d+\\.?\\d{0,2}',cost)\n",
        "print(result)\n",
        "\n",
        "new_result=[]\n",
        "for num in result:\n",
        "  new_result.append((float(num)))\n",
        "  print(new_result)\n",
        "\n",
        "\n"
      ],
      "metadata": {
        "colab": {
          "base_uri": "https://localhost:8080/"
        },
        "id": "mz0oDjGmx4b9",
        "outputId": "8ecb6852-e37f-44cb-944a-8522435e7c97"
      },
      "execution_count": 78,
      "outputs": [
        {
          "output_type": "stream",
          "name": "stdout",
          "text": [
            "['15.00', '2', '29.00', '5']\n",
            "[15.0]\n",
            "[15.0, 2.0]\n",
            "[15.0, 2.0, 29.0]\n",
            "[15.0, 2.0, 29.0, 5.0]\n"
          ]
        }
      ]
    }
  ]
}