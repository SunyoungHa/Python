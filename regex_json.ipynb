{
  "nbformat": 4,
  "nbformat_minor": 0,
  "metadata": {
    "colab": {
      "name": "regex_json.ipynb",
      "provenance": [],
      "authorship_tag": "ABX9TyOEMwd5M86ydzmB1655jYFZ",
      "include_colab_link": true
    },
    "kernelspec": {
      "name": "python3",
      "display_name": "Python 3"
    },
    "language_info": {
      "name": "python"
    }
  },
  "cells": [
    {
      "cell_type": "markdown",
      "metadata": {
        "id": "view-in-github",
        "colab_type": "text"
      },
      "source": [
        "<a href=\"https://colab.research.google.com/github/SunyoungHa/python/blob/main/regex_json.ipynb\" target=\"_parent\"><img src=\"https://colab.research.google.com/assets/colab-badge.svg\" alt=\"Open In Colab\"/></a>"
      ]
    },
    {
      "cell_type": "code",
      "source": [
        "import re"
      ],
      "metadata": {
        "id": "pSSiJODKrVo5"
      },
      "execution_count": 124,
      "outputs": []
    },
    {
      "cell_type": "code",
      "source": [
        "result=[]\n",
        "def annotation(sentence):\n",
        "  for i in sentence:\n",
        "    #print(i, end=\"\")\n",
        "\n",
        "    p=re.findall('(?:can you)?\\s(play|i want to listen to )', sentence)\n",
        "    m=re.findall('(music|song)', sentence)\n",
        "\n",
        "    if p or m:\n",
        "      result.append(p)\n",
        "      result.append(m)\n",
        "      print(f'{p}: play verb')    \n",
        "      print(f'{m}: music')\n",
        "    break\n",
        "\n",
        "sentence1=\" i want to listen to music \"\n",
        "sentence2=\" play music \"\n",
        "\n",
        "annotation(sentence1)\n",
        "annotation(sentence2)"
      ],
      "metadata": {
        "colab": {
          "base_uri": "https://localhost:8080/"
        },
        "id": "HgLtvL6HsK8a",
        "outputId": "cfe5d630-70ed-48d7-b862-d7508a19a78a"
      },
      "execution_count": 125,
      "outputs": [
        {
          "output_type": "stream",
          "name": "stdout",
          "text": [
            "['i want to listen to ']: play verb\n",
            "['music']: music\n",
            "['play']: play verb\n",
            "['music']: music\n"
          ]
        }
      ]
    },
    {
      "cell_type": "code",
      "source": [
        "music=[{'music': 'music'}]\n",
        "type(music)"
      ],
      "metadata": {
        "colab": {
          "base_uri": "https://localhost:8080/"
        },
        "id": "so6-9zaY0wBG",
        "outputId": "01046752-5120-4566-81d8-8e94bf5527a0"
      },
      "execution_count": 126,
      "outputs": [
        {
          "output_type": "execute_result",
          "data": {
            "text/plain": [
              "list"
            ]
          },
          "metadata": {},
          "execution_count": 126
        }
      ]
    },
    {
      "cell_type": "code",
      "source": [
        "import json\n",
        "\n",
        "# sample_data/annotation.json \n",
        "# [\n",
        "#   {\"play\": [\"play\", \"I want to listen to\"]},\n",
        "#   {\"artist\":[\"lady gaga\",\"radiohead\"]},\n",
        "#   {\"music\":[\"music\",\"song\"]}\n",
        "# ]\n",
        "\n",
        "with open(\"//content/sample_data/annotation.json\", mode='r') as json_file:\n",
        "  labels = json.load(json_file)\n",
        "  for label in labels:\n",
        "    # print(label)\n",
        "    for key in label:\n",
        "    #  print(key)\n",
        "      if key =='music' or key =='play':\n",
        "       print(f'{label[key]}: <unknown>')    \n",
        "\n"
      ],
      "metadata": {
        "colab": {
          "base_uri": "https://localhost:8080/"
        },
        "id": "YMacs4qp_n8P",
        "outputId": "8b590daa-0e36-4198-f0e3-6eede7628a48"
      },
      "execution_count": 127,
      "outputs": [
        {
          "output_type": "stream",
          "name": "stdout",
          "text": [
            "['play', 'I want to listen to']: <unknown>\n",
            "['music', 'song']: <unknown>\n"
          ]
        }
      ]
    },
    {
      "cell_type": "code",
      "source": [
        "text='[put] [lady gaga] [on]'\n",
        "\n",
        "r = re.sub('[^a-z\\s]', '', text)\n",
        "print(r)"
      ],
      "metadata": {
        "colab": {
          "base_uri": "https://localhost:8080/"
        },
        "id": "yZaF9uTZ_5uW",
        "outputId": "ceec16b0-0ace-4eaf-c997-e157089b3146"
      },
      "execution_count": 129,
      "outputs": [
        {
          "output_type": "stream",
          "name": "stdout",
          "text": [
            "put lady gaga on\n"
          ]
        }
      ]
    },
    {
      "cell_type": "code",
      "source": [],
      "metadata": {
        "id": "IFh4YtWlLtYp"
      },
      "execution_count": null,
      "outputs": []
    }
  ]
}