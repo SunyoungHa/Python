{
  "nbformat": 4,
  "nbformat_minor": 0,
  "metadata": {
    "colab": {
      "name": "pos tagging.ipynb",
      "provenance": [],
      "authorship_tag": "ABX9TyPOTs5uSZdydn++8joxUGiq",
      "include_colab_link": true
    },
    "kernelspec": {
      "name": "python3",
      "display_name": "Python 3"
    },
    "language_info": {
      "name": "python"
    }
  },
  "cells": [
    {
      "cell_type": "markdown",
      "metadata": {
        "id": "view-in-github",
        "colab_type": "text"
      },
      "source": [
        "<a href=\"https://colab.research.google.com/github/SunyoungHa/NLP---Natural-Language-Processing-with-Python/blob/main/pos_tagging.ipynb\" target=\"_parent\"><img src=\"https://colab.research.google.com/assets/colab-badge.svg\" alt=\"Open In Colab\"/></a>"
      ]
    },
    {
      "cell_type": "code",
      "execution_count": 4,
      "metadata": {
        "id": "PX2Fo0nlHaO8"
      },
      "outputs": [],
      "source": [
        "import spacy\n",
        "nlp = spacy.load('en_core_web_sm')\n"
      ]
    },
    {
      "cell_type": "code",
      "source": [
        "doc=nlp(u'Processing raw text intelligently is difficult')\n",
        "print(doc[3])"
      ],
      "metadata": {
        "colab": {
          "base_uri": "https://localhost:8080/"
        },
        "id": "P4-MU5GaILNs",
        "outputId": "9ae8384d-59ed-41e4-a257-15d59bdad6dd"
      },
      "execution_count": 10,
      "outputs": [
        {
          "output_type": "stream",
          "name": "stdout",
          "text": [
            "intelligently\n"
          ]
        }
      ]
    },
    {
      "cell_type": "code",
      "source": [
        "print(doc[3].pos_)"
      ],
      "metadata": {
        "colab": {
          "base_uri": "https://localhost:8080/"
        },
        "id": "utyw2wPJMjPF",
        "outputId": "8ca7e696-8021-4462-faa8-7d2b026c6027"
      },
      "execution_count": 14,
      "outputs": [
        {
          "output_type": "stream",
          "name": "stdout",
          "text": [
            "ADV\n"
          ]
        }
      ]
    },
    {
      "cell_type": "code",
      "source": [
        "print(f\"{doc[0].pos_} | {doc[0].tag_} | {spacy.explain(doc[0].tag_)}\")"
      ],
      "metadata": {
        "colab": {
          "base_uri": "https://localhost:8080/"
        },
        "id": "EMQzpxv0NHCg",
        "outputId": "ed854ea5-99a1-4612-cc11-e566e1b3906f"
      },
      "execution_count": 24,
      "outputs": [
        {
          "output_type": "stream",
          "name": "stdout",
          "text": [
            "VERB | VBG | verb, gerund or present participle\n"
          ]
        }
      ]
    },
    {
      "cell_type": "code",
      "source": [
        "pos_counts=doc.count_by(spacy.attrs.POS)\n",
        "\n",
        "for k,v in sorted(pos_counts.items()):\n",
        "  print(f\"{k}.{doc.vocab[k].text:{3}} {v}\")"
      ],
      "metadata": {
        "colab": {
          "base_uri": "https://localhost:8080/"
        },
        "id": "ng3oGzfCgfoe",
        "outputId": "920db7b7-5384-4ebb-c87a-8b2163ced182"
      },
      "execution_count": 30,
      "outputs": [
        {
          "output_type": "stream",
          "name": "stdout",
          "text": [
            "84.ADJ 2\n",
            "86.ADV 1\n",
            "87.AUX 1\n",
            "92.NOUN 1\n",
            "100.VERB 1\n"
          ]
        }
      ]
    },
    {
      "cell_type": "code",
      "source": [
        "len(doc.vocab)"
      ],
      "metadata": {
        "colab": {
          "base_uri": "https://localhost:8080/"
        },
        "id": "xepAncanjeV_",
        "outputId": "bc3c9f1e-698b-4225-94f0-4bcda1eb1320"
      },
      "execution_count": 31,
      "outputs": [
        {
          "output_type": "execute_result",
          "data": {
            "text/plain": [
              "774"
            ]
          },
          "metadata": {},
          "execution_count": 31
        }
      ]
    }
  ]
}