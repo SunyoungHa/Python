{
  "nbformat": 4,
  "nbformat_minor": 0,
  "metadata": {
    "colab": {
      "name": "Stemming.ipynb",
      "provenance": [],
      "authorship_tag": "ABX9TyNULC2oKSs8I/W+4JCZaZao",
      "include_colab_link": true
    },
    "kernelspec": {
      "name": "python3",
      "display_name": "Python 3"
    },
    "language_info": {
      "name": "python"
    }
  },
  "cells": [
    {
      "cell_type": "markdown",
      "metadata": {
        "id": "view-in-github",
        "colab_type": "text"
      },
      "source": [
        "<a href=\"https://colab.research.google.com/github/SunyoungHa/NLP---Natural-Language-Processing-with-Python/blob/main/Stemming.ipynb\" target=\"_parent\"><img src=\"https://colab.research.google.com/assets/colab-badge.svg\" alt=\"Open In Colab\"/></a>"
      ]
    },
    {
      "cell_type": "code",
      "execution_count": 2,
      "metadata": {
        "id": "Km_et_QcFu60"
      },
      "outputs": [],
      "source": [
        "#the search returns variations of the words (can be used for seaarching ketword)\n",
        "\n",
        "import nltk\n",
        "from nltk.stem.porter import PorterStemmer"
      ]
    },
    {
      "cell_type": "code",
      "source": [
        "P_stemmer=PorterStemmer()"
      ],
      "metadata": {
        "id": "jwqmgmR4GZhD"
      },
      "execution_count": 3,
      "outputs": []
    },
    {
      "cell_type": "code",
      "source": [
        "words=['run','runner','runs', 'ran', 'easily','fairly','fairness']\n",
        "for w in words:\n",
        "  print(w + ': ' + P_stemmer.stem(w))"
      ],
      "metadata": {
        "colab": {
          "base_uri": "https://localhost:8080/"
        },
        "id": "ZbmEJwr9Gext",
        "outputId": "1392083b-9e10-4103-b37f-27d9edd78eff"
      },
      "execution_count": 17,
      "outputs": [
        {
          "output_type": "stream",
          "name": "stdout",
          "text": [
            "run: run\n",
            "runner: runner\n",
            "runs: run\n",
            "ran: ran\n",
            "easily: easili\n",
            "fairly: fairli\n",
            "fairness: fair\n"
          ]
        }
      ]
    },
    {
      "cell_type": "code",
      "source": [
        "from nltk.stem.snowball import SnowballStemmer"
      ],
      "metadata": {
        "id": "rpyAlwcjGweA"
      },
      "execution_count": 18,
      "outputs": []
    },
    {
      "cell_type": "code",
      "source": [
        "s_stemmer = SnowballStemmer(language='english')"
      ],
      "metadata": {
        "id": "7tPt56AeG2Fi"
      },
      "execution_count": 19,
      "outputs": []
    },
    {
      "cell_type": "code",
      "source": [
        "for w in words:\n",
        "  print(w + ': ' + s_stemmer.stem(w))"
      ],
      "metadata": {
        "colab": {
          "base_uri": "https://localhost:8080/"
        },
        "id": "hKNS-p--G_jt",
        "outputId": "2c6eb3c4-fbf7-4424-9e4a-75cc7ef3475a"
      },
      "execution_count": 21,
      "outputs": [
        {
          "output_type": "stream",
          "name": "stdout",
          "text": [
            "run: run\n",
            "runner: runner\n",
            "runs: run\n",
            "ran: ran\n",
            "easily: easili\n",
            "fairly: fair\n",
            "fairness: fair\n"
          ]
        }
      ]
    },
    {
      "cell_type": "code",
      "source": [],
      "metadata": {
        "id": "M0XXS3X3He0E"
      },
      "execution_count": null,
      "outputs": []
    }
  ]
}