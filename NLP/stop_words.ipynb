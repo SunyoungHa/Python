{
  "nbformat": 4,
  "nbformat_minor": 0,
  "metadata": {
    "colab": {
      "name": "stop words.ipynb",
      "provenance": [],
      "authorship_tag": "ABX9TyO6t+4wPVCYkBCXhKjMKoBa",
      "include_colab_link": true
    },
    "kernelspec": {
      "name": "python3",
      "display_name": "Python 3"
    },
    "language_info": {
      "name": "python"
    }
  },
  "cells": [
    {
      "cell_type": "markdown",
      "metadata": {
        "id": "view-in-github",
        "colab_type": "text"
      },
      "source": [
        "<a href=\"https://colab.research.google.com/github/SunyoungHa/NLP---Natural-Language-Processing-with-Python/blob/main/stop_words.ipynb\" target=\"_parent\"><img src=\"https://colab.research.google.com/assets/colab-badge.svg\" alt=\"Open In Colab\"/></a>"
      ]
    },
    {
      "cell_type": "code",
      "execution_count": 1,
      "metadata": {
        "id": "kr7HXHM5NpbH"
      },
      "outputs": [],
      "source": [
        "#'the' 'a' , etc \n",
        "import spacy\n",
        "nlp=spacy.load('en_core_web_sm')"
      ]
    },
    {
      "cell_type": "code",
      "source": [
        "len(nlp.Defaults.stop_words)\n",
        "print(nlp.Defaults.stop_words)"
      ],
      "metadata": {
        "colab": {
          "base_uri": "https://localhost:8080/"
        },
        "id": "0G1B1UC9VX02",
        "outputId": "45fe9580-c09d-431b-8db4-b65d2a6ce948"
      },
      "execution_count": 9,
      "outputs": [
        {
          "output_type": "stream",
          "name": "stdout",
          "text": [
            "{'anyhow', 'were', 'even', 'else', 'their', 'thence', 'at', 'its', 'would', 'about', 'back', 'while', 'any', 'my', 'most', 'ours', 'within', 'formerly', 'upon', 'hundred', 'can', 'do', 'here', 'now', 'give', 'down', 'eight', 'i', 'latter', 'every', 'becomes', 'throughout', 'often', 'nine', 'very', 'therefore', 'herein', 'less', 'each', 'neither', 'on', \"n't\", 'became', 'of', 'amount', 'whatever', 'make', 're', 'doing', 'afterwards', 'fifty', 'well', 'made', 'done', 'whenever', 'again', 'himself', 'wherever', 'how', 'whither', 'only', 'which', 'enough', 'forty', 'elsewhere', 'than', 'a', 'and', 'never', '’ve', 'become', 'from', 'anything', 'behind', 'not', \"'d\", 'without', 'together', 'if', '‘d', 'quite', 'thereby', 'somewhere', 'just', 'into', 'have', 'first', 'yourselves', 'some', 'twenty', 'ca', 'hence', 'through', 'get', 'using', 'say', 'for', 'been', 'side', 'because', 'during', 'noone', 'mine', 'both', 'where', 'nevertheless', 'thru', \"'m\", 'several', 'least', 'out', '’m', 'though', 'anyone', 'wherein', 'although', 'ourselves', 'off', '’re', 'due', 'these', 'anywhere', 'them', \"'s\", 'thereafter', 'last', 'former', '‘ll', 'cannot', 'to', 'btw', 'bottom', 'all', 'as', 'mostly', 'top', 'hereupon', 'she', 'such', '‘m', 'thereupon', 'seemed', 'below', 'once', \"'re\", 'yours', 'keep', 'am', 'we', 'towards', '’d', 'put', 'two', 'empty', 'please', 'does', 'via', 'whoever', 'much', 'also', '’s', 'by', 'his', 'before', 'beyond', 'the', 'whereupon', 'seems', 'nor', 'nothing', 'until', 'then', 'namely', 'something', 'further', 'themselves', 'may', 'another', 'no', 'indeed', 'whose', 'everything', 'always', 'n‘t', 'name', 'twelve', 'nobody', 'that', 'used', 'has', 'many', 'amongst', 'sometimes', 'myself', 'four', 'could', '‘re', 'call', 'her', 'with', 'along', 'per', 'him', 'regarding', 'anyway', 'itself', 'part', 'you', 'otherwise', 'us', 'perhaps', 'rather', 'same', 'whereby', 'they', 'other', 'toward', 'nowhere', 'various', 'however', 'whereafter', 'did', 'next', 'n’t', 'our', 'he', 'will', 'might', 'be', 'somehow', 'fifteen', 'whole', 'seem', 'becoming', 'around', 'against', 'own', 'across', 'whereas', 'unless', 'really', 'see', 'should', 'eleven', 'are', 'but', 'had', 'serious', 'already', 'thus', 'under', 'still', 'up', 'when', 'who', 'being', 'or', 'sometime', 'hereby', 'your', 'it', 'seeming', 'too', 'besides', 'what', 'so', 'hereafter', 'five', 'meanwhile', 'third', 'yourself', 'moreover', 'those', 'none', 'herself', 'an', 'there', 'whence', 'ever', 'show', 'take', 'is', 'move', 'beforehand', 'three', 'over', 'among', 'onto', 'more', 'this', \"'ve\", 'why', 'everyone', 'beside', 'therein', 'must', 'one', 'in', 'after', 'yet', 'alone', 'few', 'me', 'except', 'almost', '‘ve', 'six', 'full', 'between', 'ten', 'since', 'someone', '‘s', 'latterly', 'everywhere', 'was', 'go', 'whom', 'either', 'hers', 'whether', 'above', 'front', 'sixty', 'others', '’ll', \"'ll\"}\n"
          ]
        }
      ]
    },
    {
      "cell_type": "code",
      "source": [
        "nlp.vocab['is'].is_stop"
      ],
      "metadata": {
        "colab": {
          "base_uri": "https://localhost:8080/"
        },
        "id": "ZdGOVXdzVqjp",
        "outputId": "c5e9b04a-2cce-4cdc-9187-a9311169e1a1"
      },
      "execution_count": 6,
      "outputs": [
        {
          "output_type": "execute_result",
          "data": {
            "text/plain": [
              "True"
            ]
          },
          "metadata": {},
          "execution_count": 6
        }
      ]
    },
    {
      "cell_type": "code",
      "source": [
        "nlp.Defaults.stop_words.add('btw')\n",
        "nlp.vocab['btw'].is_stop=True\n",
        "len(nlp.Defaults.stop_words)"
      ],
      "metadata": {
        "colab": {
          "base_uri": "https://localhost:8080/"
        },
        "id": "vwhWhAy_VwWJ",
        "outputId": "03ba4359-d8ca-4b64-eadc-1837167071a2"
      },
      "execution_count": 10,
      "outputs": [
        {
          "output_type": "execute_result",
          "data": {
            "text/plain": [
              "327"
            ]
          },
          "metadata": {},
          "execution_count": 10
        }
      ]
    },
    {
      "cell_type": "code",
      "source": [
        "nlp.Defaults.stop_words.remove('show')\n",
        "nlp.vocab['show'].is_stop=False\n",
        "nlp.vocab['show'].is_stop\n",
        "\n"
      ],
      "metadata": {
        "colab": {
          "base_uri": "https://localhost:8080/"
        },
        "id": "PgB3FN0qWOPC",
        "outputId": "5253c961-ac67-4da3-92ad-b08e941b1d04"
      },
      "execution_count": 11,
      "outputs": [
        {
          "output_type": "execute_result",
          "data": {
            "text/plain": [
              "False"
            ]
          },
          "metadata": {},
          "execution_count": 11
        }
      ]
    }
  ]
}