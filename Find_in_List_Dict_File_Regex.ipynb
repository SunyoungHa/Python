{
  "nbformat": 4,
  "nbformat_minor": 0,
  "metadata": {
    "colab": {
      "name": "Find_in_List_Dict_File_Regex.ipynb",
      "provenance": [],
      "authorship_tag": "ABX9TyOm2l0rPXoRTSJ065nvMqra",
      "include_colab_link": true
    },
    "kernelspec": {
      "name": "python3",
      "display_name": "Python 3"
    },
    "language_info": {
      "name": "python"
    }
  },
  "cells": [
    {
      "cell_type": "markdown",
      "metadata": {
        "id": "view-in-github",
        "colab_type": "text"
      },
      "source": [
        "<a href=\"https://colab.research.google.com/github/SunyoungHa/python/blob/main/Find_in_List_Dict_File_Regex.ipynb\" target=\"_parent\"><img src=\"https://colab.research.google.com/assets/colab-badge.svg\" alt=\"Open In Colab\"/></a>"
      ]
    },
    {
      "cell_type": "code",
      "execution_count": 71,
      "metadata": {
        "colab": {
          "base_uri": "https://localhost:8080/"
        },
        "id": "LTEsuxENzMwT",
        "outputId": "96dd4c2d-91c6-49db-9db9-8f35369c92ff"
      },
      "outputs": [
        {
          "output_type": "stream",
          "name": "stdout",
          "text": [
            "3\n"
          ]
        }
      ],
      "source": [
        "lists= ['netflix', 'hulu', 'disney+', 'appletv+', 'hulu']\n",
        "\n",
        "print(lists.index('appletv+'))"
      ]
    },
    {
      "cell_type": "code",
      "source": [
        "indices=[]\n",
        "for i in range(len(lists)):\n",
        "  if lists[i] == 'hulu':\n",
        "    indices.append(i)\n",
        "\n",
        "print(indices)\n"
      ],
      "metadata": {
        "colab": {
          "base_uri": "https://localhost:8080/"
        },
        "id": "0VMm53vL1lOA",
        "outputId": "438fa1da-c5d2-47cc-8bcf-dbedaefd224e"
      },
      "execution_count": 72,
      "outputs": [
        {
          "output_type": "stream",
          "name": "stdout",
          "text": [
            "[1, 4]\n"
          ]
        }
      ]
    },
    {
      "cell_type": "code",
      "source": [
        "for item in enumerate(lists):\n",
        "    print(item)\n"
      ],
      "metadata": {
        "colab": {
          "base_uri": "https://localhost:8080/"
        },
        "id": "EuJAir146uWR",
        "outputId": "ace1cba0-c2a6-471e-f4e4-ebb4f657d70d"
      },
      "execution_count": 67,
      "outputs": [
        {
          "output_type": "stream",
          "name": "stdout",
          "text": [
            "(0, 'netflix')\n",
            "(1, 'hulu')\n",
            "(2, 'disney+')\n",
            "(3, 'appletv+')\n"
          ]
        }
      ]
    },
    {
      "cell_type": "code",
      "source": [
        "def search(lists):\n",
        "  count=0\n",
        "  indices=[]\n",
        "  for i in range(len(lists)):\n",
        "    if lists[i] == 'hulu':\n",
        "      count+= 1\n",
        "      indices.append(i)\n",
        "  return count,indices\n",
        "  \n",
        "lists= ['netflix', 'hulu', 'disney+', 'appletv+', 'hulu']\n",
        "search(lists)"
      ],
      "metadata": {
        "colab": {
          "base_uri": "https://localhost:8080/"
        },
        "id": "pJImHu378_8x",
        "outputId": "25da447f-31ec-4c68-d563-6c896342663c"
      },
      "execution_count": 77,
      "outputs": [
        {
          "output_type": "execute_result",
          "data": {
            "text/plain": [
              "(2, [1, 4])"
            ]
          },
          "metadata": {},
          "execution_count": 77
        }
      ]
    },
    {
      "cell_type": "code",
      "source": [
        "word_freq = {\n",
        "    \"Hello\": 56,\n",
        "    \"at\": 23,\n",
        "    \"test\": 43,\n",
        "    \"this\": 78\n",
        "}\n",
        "\n",
        "\n",
        "for key in word_freq :\n",
        "  if key == \"Hello\":\n",
        "    print(word_freq[key])"
      ],
      "metadata": {
        "colab": {
          "base_uri": "https://localhost:8080/"
        },
        "id": "lCv0OntPCjR0",
        "outputId": "141a8810-d603-4349-dfa2-19eb308196d2"
      },
      "execution_count": 86,
      "outputs": [
        {
          "output_type": "stream",
          "name": "stdout",
          "text": [
            "56\n"
          ]
        }
      ]
    },
    {
      "cell_type": "code",
      "source": [
        "def searchDict(dict,key):\n",
        "  if key in word_freq:\n",
        "    return(f\"found '{key}' : {word_freq[key]} times\")\n",
        "\n",
        "words = {\n",
        "    \"Hello\": 56,\n",
        "    \"at\": 23,\n",
        "    \"test\": 43,\n",
        "    \"this\": 78\n",
        "}\n",
        "\n",
        "key = \"test\"\n",
        "searchDict(words,key)"
      ],
      "metadata": {
        "colab": {
          "base_uri": "https://localhost:8080/",
          "height": 35
        },
        "id": "wtKiuyxJDssj",
        "outputId": "8f0ac2e9-9b6a-4980-8c0d-17ec560c32fa"
      },
      "execution_count": 92,
      "outputs": [
        {
          "output_type": "execute_result",
          "data": {
            "text/plain": [
              "\"found 'test' : 43 times\""
            ],
            "application/vnd.google.colaboratory.intrinsic+json": {
              "type": "string"
            }
          },
          "metadata": {},
          "execution_count": 92
        }
      ]
    },
    {
      "cell_type": "code",
      "source": [
        "import re\n",
        "\n",
        "lists= ['see', 'seeing', 'watching+', 'appletv+', 'hulu']\n",
        "result=[]\n",
        "for i in lists:\n",
        "  if re.search(r'ing$', i):\n",
        "    result.append(i)\n",
        "  \n",
        "result"
      ],
      "metadata": {
        "colab": {
          "base_uri": "https://localhost:8080/"
        },
        "id": "t662X2wiKkiF",
        "outputId": "65fb7326-a945-4bfb-d928-5a04f637afa2"
      },
      "execution_count": 135,
      "outputs": [
        {
          "output_type": "execute_result",
          "data": {
            "text/plain": [
              "['seeing']"
            ]
          },
          "metadata": {},
          "execution_count": 135
        }
      ]
    },
    {
      "cell_type": "code",
      "source": [
        "\n",
        "print((re.split(r'\\s','we are splitting the words')))\n",
        "print((re.split(r's','split the words')))"
      ],
      "metadata": {
        "colab": {
          "base_uri": "https://localhost:8080/"
        },
        "id": "vKBZVCBhP8p0",
        "outputId": "6cf883a4-c834-44be-fc8f-7fec25426b55"
      },
      "execution_count": 136,
      "outputs": [
        {
          "output_type": "stream",
          "name": "stdout",
          "text": [
            "['we', 'are', 'splitting', 'the', 'words']\n",
            "['', 'plit the word', '']\n"
          ]
        }
      ]
    },
    {
      "cell_type": "code",
      "source": [
        "txt={\"a\":\"play music.\" ,\"b\":\"play song\" , \"c\":\"put on the music\"}\n",
        "for key in txt:\n",
        "  if re.findall('play\\s(music|song)+',txt[key]):\n",
        "    print(key)\n",
        "  else:\n",
        "    break\n",
        "\n"
      ],
      "metadata": {
        "colab": {
          "base_uri": "https://localhost:8080/"
        },
        "id": "tU0lhOvcQnVI",
        "outputId": "c58442f2-14a2-4a5c-c67b-1dd7961c8a2c"
      },
      "execution_count": 171,
      "outputs": [
        {
          "output_type": "stream",
          "name": "stdout",
          "text": [
            "a\n",
            "b\n"
          ]
        }
      ]
    },
    {
      "cell_type": "code",
      "source": [
        "text=\"A Regular Expression (RE) in a programming language is a special text String used for describing a search pattern. It is extremely useful for extracting information from text such as code, files, log, spreadsheets or even documents.\"\n",
        "\n",
        "r1 = re.findall(r\"^\\w+\",text)\n",
        "r2 = re.sub(r\"(\\(RE|\\)\\s)\",'',  text) #remove '(RE)'\n",
        "r3=re.findall(r\"\\b[sS]\\w+\\b\",text) #find words starting w/ s\n",
        "\n",
        "\n",
        "print(r1)\n",
        "print(r2)\n",
        "print(r3)\n",
        "\n",
        "\n"
      ],
      "metadata": {
        "colab": {
          "base_uri": "https://localhost:8080/"
        },
        "id": "-PlKaDHEVAnU",
        "outputId": "75aaa3dd-c140-45c4-8ab0-c0592eae6994"
      },
      "execution_count": 268,
      "outputs": [
        {
          "output_type": "stream",
          "name": "stdout",
          "text": [
            "['A']\n",
            "A Regular Expression in a programming language is a special text String used for describing a search pattern. It is extremely useful for extracting information from text such as code, files, log, spreadsheets or even documents.\n",
            "['special', 'String', 'search', 'such', 'spreadsheets']\n"
          ]
        }
      ]
    },
    {
      "cell_type": "code",
      "source": [
        "count_sms=[]\n",
        "with open('/content/sms_readme.txt') as f:\n",
        "  for line in f:\n",
        "    text=line.strip()\n",
        "    sms=re.findall('SMS',text)\n",
        "    if len(sms)==0:\n",
        "      continue\n",
        "    count_sms.append(sms)\n",
        "print(len(count_sms))"
      ],
      "metadata": {
        "colab": {
          "base_uri": "https://localhost:8080/"
        },
        "id": "sgxwaGJpe6ID",
        "outputId": "0abfd646-3f92-4184-eb7b-91e414c07d50"
      },
      "execution_count": 239,
      "outputs": [
        {
          "output_type": "stream",
          "name": "stdout",
          "text": [
            "11\n"
          ]
        }
      ]
    },
    {
      "cell_type": "code",
      "source": [
        "with open('/content/sms_readme.txt') as f:\n",
        "  for line in f:\n",
        "    text=line.strip()\n",
        "    sms=re.findall('(?i)the\\s+\\w+',text)\n",
        "    if len(sms)==0:\n",
        "      continue\n",
        "print(sms)"
      ],
      "metadata": {
        "colab": {
          "base_uri": "https://localhost:8080/"
        },
        "id": "ZgopDQu0f_rj",
        "outputId": "49725190-a2cc-4641-bb0b-4713c06c4744"
      },
      "execution_count": 279,
      "outputs": [
        {
          "output_type": "stream",
          "name": "stdout",
          "text": [
            "['THE COPYRIGHT', 'THE CORPUS', 'THE POSSIBILITY', 'THE CORPUS']\n"
          ]
        }
      ]
    },
    {
      "cell_type": "code",
      "source": [],
      "metadata": {
        "id": "Z2B7ecIfoTWm"
      },
      "execution_count": null,
      "outputs": []
    }
  ]
}