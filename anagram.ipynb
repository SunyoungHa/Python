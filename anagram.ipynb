{
  "nbformat": 4,
  "nbformat_minor": 0,
  "metadata": {
    "colab": {
      "name": "anagram.ipynb",
      "provenance": [],
      "authorship_tag": "ABX9TyPs2di8lAK/w0XjPN9a9t+7",
      "include_colab_link": true
    },
    "kernelspec": {
      "name": "python3",
      "display_name": "Python 3"
    },
    "language_info": {
      "name": "python"
    }
  },
  "cells": [
    {
      "cell_type": "markdown",
      "metadata": {
        "id": "view-in-github",
        "colab_type": "text"
      },
      "source": [
        "<a href=\"https://colab.research.google.com/github/SunyoungHa/python/blob/main/anagram.ipynb\" target=\"_parent\"><img src=\"https://colab.research.google.com/assets/colab-badge.svg\" alt=\"Open In Colab\"/></a>"
      ]
    },
    {
      "cell_type": "code",
      "execution_count": 28,
      "metadata": {
        "id": "GlZSAb0Irdvn"
      },
      "outputs": [],
      "source": [
        "string_a='danger'\n",
        "string_b='garden'"
      ]
    },
    {
      "cell_type": "code",
      "source": [
        "freq1={}\n",
        "for ch in string_a:\n",
        "  if ch in freq1:\n",
        "    freq1[ch] += 1\n",
        "  else:\n",
        "    freq1[ch] = 1\n",
        "print (freq1)\n",
        "\n",
        "freq2={}\n",
        "for ch in string_b:\n",
        "  if ch in freq2:\n",
        "    freq2[ch] += 1\n",
        "  else:\n",
        "    freq2[ch] = 1\n",
        "\n",
        "if freq1 == freq2:\n",
        "  print('true')"
      ],
      "metadata": {
        "colab": {
          "base_uri": "https://localhost:8080/"
        },
        "id": "bZpoWMznrvUu",
        "outputId": "e69eb19d-448a-4846-ca11-d1deacfff999"
      },
      "execution_count": 32,
      "outputs": [
        {
          "output_type": "stream",
          "name": "stdout",
          "text": [
            "{'d': 1, 'a': 1, 'n': 1, 'g': 1, 'e': 1, 'r': 1}\n",
            "true\n"
          ]
        }
      ]
    },
    {
      "cell_type": "code",
      "source": [
        "def anagram(string_a, string_b):\n",
        "  if sorted(string_a)==sorted(string_b):\n",
        "    print('true')\n",
        "  else:\n",
        "    print('false')\n",
        "\n",
        "string_a='saleman'\n",
        "string_b='abcddee'\n",
        "anagram(string_a, string_b)"
      ],
      "metadata": {
        "colab": {
          "base_uri": "https://localhost:8080/"
        },
        "id": "47SBI8_fuVys",
        "outputId": "6ebe43af-1e6f-4dfc-ca9b-f3d94a732d2c"
      },
      "execution_count": 40,
      "outputs": [
        {
          "output_type": "stream",
          "name": "stdout",
          "text": [
            "false\n"
          ]
        }
      ]
    },
    {
      "cell_type": "code",
      "source": [],
      "metadata": {
        "id": "AXLtKYWlyr2c"
      },
      "execution_count": null,
      "outputs": []
    }
  ]
}