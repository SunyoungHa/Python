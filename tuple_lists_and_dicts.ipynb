{
  "nbformat": 4,
  "nbformat_minor": 0,
  "metadata": {
    "colab": {
      "name": "tuple_lists_and_dicts.ipynb",
      "provenance": [],
      "authorship_tag": "ABX9TyMAz8HtrCisKObNOwyH/9d6",
      "include_colab_link": true
    },
    "kernelspec": {
      "name": "python3",
      "display_name": "Python 3"
    },
    "language_info": {
      "name": "python"
    }
  },
  "cells": [
    {
      "cell_type": "markdown",
      "metadata": {
        "id": "view-in-github",
        "colab_type": "text"
      },
      "source": [
        "<a href=\"https://colab.research.google.com/github/SunyoungHa/python/blob/main/tuple_lists_and_dicts.ipynb\" target=\"_parent\"><img src=\"https://colab.research.google.com/assets/colab-badge.svg\" alt=\"Open In Colab\"/></a>"
      ]
    },
    {
      "cell_type": "code",
      "execution_count": 2,
      "metadata": {
        "colab": {
          "base_uri": "https://localhost:8080/",
          "height": 35
        },
        "id": "h1VelY9rcgZW",
        "outputId": "812f2bc2-525c-492a-ccd5-2a760c82f4fb"
      },
      "outputs": [
        {
          "output_type": "execute_result",
          "data": {
            "text/plain": [
              "'3.7.13 (default, Apr 24 2022, 01:04:09) \\n[GCC 7.5.0]'"
            ],
            "application/vnd.google.colaboratory.intrinsic+json": {
              "type": "string"
            }
          },
          "metadata": {},
          "execution_count": 2
        }
      ],
      "source": [
        "# source : https://www.youtube.com/watch?v=gDBzy9Xk68o\n",
        "import sys\n",
        "sys.version"
      ]
    },
    {
      "cell_type": "code",
      "source": [
        "!uname -a\n",
        "!lsb_release -a"
      ],
      "metadata": {
        "colab": {
          "base_uri": "https://localhost:8080/"
        },
        "id": "ciHvnWxxcwKx",
        "outputId": "08a3557d-19b0-4d02-ca50-74a1922113ce"
      },
      "execution_count": 3,
      "outputs": [
        {
          "output_type": "stream",
          "name": "stdout",
          "text": [
            "Linux 85f6933a43c2 5.4.188+ #1 SMP Sun Apr 24 10:03:06 PDT 2022 x86_64 x86_64 x86_64 GNU/Linux\n",
            "No LSB modules are available.\n",
            "Distributor ID:\tUbuntu\n",
            "Description:\tUbuntu 18.04.6 LTS\n",
            "Release:\t18.04\n",
            "Codename:\tbionic\n"
          ]
        }
      ]
    },
    {
      "cell_type": "code",
      "source": [
        "#What is something you can do in a list you can't do with a tuple?\n",
        "tpl = (\"six\", 5, 4.0, \"3\", \"two\", \"one\", \"zero\")\n",
        "\n",
        "print(f'tp1[0] : {tpl[0]}')\n",
        "print(f\"tpl[-1] ='z' tuple object doest not support item assigment\")\n",
        "\n",
        "# conver tuple to a list using list()\n",
        "list_from_tuple=list(tpl)\n",
        "list_from_tuple\n",
        "\n"
      ],
      "metadata": {
        "colab": {
          "base_uri": "https://localhost:8080/"
        },
        "id": "GQ0AMfO-c3yO",
        "outputId": "d9de117e-7ae4-48e1-d6fe-a0e2d374f4fb"
      },
      "execution_count": 12,
      "outputs": [
        {
          "output_type": "stream",
          "name": "stdout",
          "text": [
            "tp1[0] : six\n",
            "tpl[-1] ='z' tuple object doest not support item assigment\n"
          ]
        },
        {
          "output_type": "execute_result",
          "data": {
            "text/plain": [
              "['six', 5, 4.0, '3', 'two', 'one', 'zero']"
            ]
          },
          "metadata": {},
          "execution_count": 12
        }
      ]
    },
    {
      "cell_type": "code",
      "source": [
        "# conver list to tuple\n",
        "tuple_from_list=tuple(list_from_tuple)\n",
        "tuple_from_list"
      ],
      "metadata": {
        "colab": {
          "base_uri": "https://localhost:8080/"
        },
        "id": "tNJldMPMgiGw",
        "outputId": "6b75335e-fd00-427c-e2db-74b4a0490038"
      },
      "execution_count": 15,
      "outputs": [
        {
          "output_type": "execute_result",
          "data": {
            "text/plain": [
              "('six', 5, 4.0, '3', 'two', 'one', 'zero')"
            ]
          },
          "metadata": {},
          "execution_count": 15
        }
      ]
    },
    {
      "cell_type": "code",
      "source": [
        "import random\n",
        "\n",
        "die_roll=random.randint(1,6)\n",
        "if die_roll%2==0:\n",
        "  print(f\"{die_roll} is even number\")\n",
        "else:\n",
        "  print(f\"{die_roll} is odd number\")\n"
      ],
      "metadata": {
        "colab": {
          "base_uri": "https://localhost:8080/"
        },
        "id": "NwgN_--XgkJT",
        "outputId": "45b9c8c7-bd42-4083-dc0e-da871a465116"
      },
      "execution_count": 16,
      "outputs": [
        {
          "output_type": "stream",
          "name": "stdout",
          "text": [
            "5 is odd number\n"
          ]
        }
      ]
    },
    {
      "cell_type": "code",
      "source": [
        "# Roll two dice and report whether the first die rolls are a greater number than the second\n",
        "dice_roll=[random.randint(1,6), random.randint(1,6)]\n",
        "print(f\"You rolled {dice_roll}. \", end=\" \")  # how to print without a newline at the end of the line\n",
        "\n",
        "if dice_roll[0]>dice_roll[1]:\n",
        "  print(f\"{dice_roll[0]} is greater number than {dice_roll[1]}\")\n",
        "elif dice_roll[0]<dice_roll[1]:\n",
        "  print(f\"{dice_roll[0]} isn\\'t greater number than {dice_roll[1]}\")\n",
        "else:\n",
        "  print(\"They are even\")\n",
        "\n"
      ],
      "metadata": {
        "colab": {
          "base_uri": "https://localhost:8080/"
        },
        "id": "R0Xs74x9hE8R",
        "outputId": "ebfd213e-d855-4892-f47a-5442d62374d9"
      },
      "execution_count": 25,
      "outputs": [
        {
          "output_type": "stream",
          "name": "stdout",
          "text": [
            "You rolled [5, 6].  5 isn't greater number than 6\n"
          ]
        }
      ]
    },
    {
      "cell_type": "code",
      "source": [
        "# enumerate().print every number from 0 to 20 as digits and its name in words as well as whether it is even or odd\n",
        "\n",
        "numbers = (\"zero\", \"one\", \"two\", \"three\", \"four\", \"five\", \"six\", \"seven\", \"eight\", \"nine\", \"ten\",\n",
        "           \"eleven\", \"twelve\", \"thirteen\", \"fourteen\", \"fifteen\", \"sixteen\", \"seventeen\", \"eighteen\",\n",
        "           \"nineteen\", \"twenty\")\n",
        "\n",
        "for index, item in enumerate(numbers):\n",
        "  if index % 2 == 0:\n",
        "    even = \"even\"\n",
        "    print (f\"{index: 10} {numbers[index]:10} {even}\")\n",
        "\n"
      ],
      "metadata": {
        "colab": {
          "base_uri": "https://localhost:8080/"
        },
        "id": "LAgJXnU_iuqv",
        "outputId": "662dd969-c86d-418b-ee8d-d2e61697e551"
      },
      "execution_count": 39,
      "outputs": [
        {
          "output_type": "stream",
          "name": "stdout",
          "text": [
            "         0 zero       even\n",
            "         2 two        even\n",
            "         4 four       even\n",
            "         6 six        even\n",
            "         8 eight      even\n",
            "        10 ten        even\n",
            "        12 twelve     even\n",
            "        14 fourteen   even\n",
            "        16 sixteen    even\n",
            "        18 eighteen   even\n",
            "        20 twenty     even\n"
          ]
        }
      ]
    },
    {
      "cell_type": "code",
      "source": [
        "alphabet = {'a': 'alfa', 'b': 'bravo', 'c': 'charlie', 'd': 'delta', 'e': 'echo', 'f': 'foxtrot', 'g': 'golf', \n",
        "            'h': 'hotel', 'i': 'india', 'j': 'juliett', 'k': 'kilo', 'l': 'lima', 'm': 'mike', 'n': 'november', \n",
        "            'o': 'oscar', 'p': 'papa', 'q': 'quebec', 'r': 'romeo', 's': 'sierra', 't': 'tango', 'u': 'ukelele', \n",
        "            'v': 'victor', 'w': 'whiskey', 'x': 'xray', 'y': 'yankee', 'z': 'zulu'}\n",
        "word = 'sunshine'\n",
        "# iterate over letters in a str just like iterating over elements in a list or tuple\n",
        "for w in word:\n",
        "  print (alphabet[w], end=\" | \")"
      ],
      "metadata": {
        "colab": {
          "base_uri": "https://localhost:8080/"
        },
        "id": "XF9aMo4hE5-r",
        "outputId": "ca58a9ad-fe4e-43d2-d6ef-01e5066510cd"
      },
      "execution_count": 50,
      "outputs": [
        {
          "output_type": "stream",
          "name": "stdout",
          "text": [
            "sierra | ukelele | november | sierra | hotel | india | november | echo | "
          ]
        }
      ]
    }
  ]
}